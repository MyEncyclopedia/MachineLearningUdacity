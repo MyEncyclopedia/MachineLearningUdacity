{
 "cells": [
  {
   "cell_type": "markdown",
   "metadata": {
    "collapsed": true
   },
   "source": [
    "# Image Classification\n",
    "In this project, you'll classify images from the [CIFAR-10 dataset](https://www.cs.toronto.edu/~kriz/cifar.html).  The dataset consists of airplanes, dogs, cats, and other objects. You'll preprocess the images, then train a convolutional neural network on all the samples. The images need to be normalized and the labels need to be one-hot encoded.  You'll get to apply what you learned and build a convolutional, max pooling, dropout, and fully connected layers.  At the end, you'll get to see your neural network's predictions on the sample images.\n",
    "## Get the Data\n",
    "Run the following cell to download the [CIFAR-10 dataset for python](https://www.cs.toronto.edu/~kriz/cifar-10-python.tar.gz)."
   ]
  },
  {
   "cell_type": "code",
   "execution_count": 1,
   "metadata": {},
   "outputs": [
    {
     "name": "stderr",
     "output_type": "stream",
     "text": [
      "/home/xh/soft/anaconda3/lib/python3.6/site-packages/h5py/__init__.py:34: FutureWarning: Conversion of the second argument of issubdtype from `float` to `np.floating` is deprecated. In future, it will be treated as `np.float64 == np.dtype(float).type`.\n",
      "  from ._conv import register_converters as _register_converters\n"
     ]
    },
    {
     "name": "stdout",
     "output_type": "stream",
     "text": [
      "All files found!\n"
     ]
    }
   ],
   "source": [
    "\"\"\"\n",
    "DON'T MODIFY ANYTHING IN THIS CELL THAT IS BELOW THIS LINE\n",
    "\"\"\"\n",
    "from urllib.request import urlretrieve\n",
    "from os.path import isfile, isdir\n",
    "from tqdm import tqdm\n",
    "import problem_unittests as tests\n",
    "import tarfile\n",
    "\n",
    "cifar10_dataset_folder_path = 'cifar-10-batches-py'\n",
    "\n",
    "class DLProgress(tqdm):\n",
    "    last_block = 0\n",
    "\n",
    "    def hook(self, block_num=1, block_size=1, total_size=None):\n",
    "        self.total = total_size\n",
    "        self.update((block_num - self.last_block) * block_size)\n",
    "        self.last_block = block_num\n",
    "\n",
    "if not isfile('cifar-10-python.tar.gz'):\n",
    "    with DLProgress(unit='B', unit_scale=True, miniters=1, desc='CIFAR-10 Dataset') as pbar:\n",
    "        urlretrieve(\n",
    "            'https://www.cs.toronto.edu/~kriz/cifar-10-python.tar.gz',\n",
    "            'cifar-10-python.tar.gz',\n",
    "            pbar.hook)\n",
    "\n",
    "if not isdir(cifar10_dataset_folder_path):\n",
    "    with tarfile.open('cifar-10-python.tar.gz') as tar:\n",
    "        tar.extractall()\n",
    "        tar.close()\n",
    "\n",
    "\n",
    "tests.test_folder_path(cifar10_dataset_folder_path)"
   ]
  },
  {
   "cell_type": "markdown",
   "metadata": {},
   "source": [
    "## Explore the Data\n",
    "The dataset is broken into batches to prevent your machine from running out of memory.  The CIFAR-10 dataset consists of 5 batches, named `data_batch_1`, `data_batch_2`, etc.. Each batch contains the labels and images that are one of the following:\n",
    "* airplane\n",
    "* automobile\n",
    "* bird\n",
    "* cat\n",
    "* deer\n",
    "* dog\n",
    "* frog\n",
    "* horse\n",
    "* ship\n",
    "* truck\n",
    "\n",
    "Understanding a dataset is part of making predictions on the data.  Play around with the code cell below by changing the `batch_id` and `sample_id`. The `batch_id` is the id for a batch (1-5). The `sample_id` is the id for a image and label pair in the batch.\n",
    "\n",
    "Ask yourself \"What are all possible labels?\", \"What is the range of values for the image data?\", \"Are the labels in order or random?\".  Answers to questions like these will help you preprocess the data and end up with better predictions."
   ]
  },
  {
   "cell_type": "code",
   "execution_count": 4,
   "metadata": {},
   "outputs": [
    {
     "name": "stdout",
     "output_type": "stream",
     "text": [
      "\n",
      "Stats of batch 4:\n",
      "Samples: 10000\n",
      "Label Counts: {0: 1003, 1: 963, 2: 1041, 3: 976, 4: 1004, 5: 1021, 6: 1004, 7: 981, 8: 1024, 9: 983}\n",
      "First 20 Labels: [0, 6, 0, 2, 7, 2, 1, 2, 4, 1, 5, 6, 6, 3, 1, 3, 5, 5, 8, 1]\n",
      "\n",
      "Example of Image 5:\n",
      "Image - Min Value: 13 Max Value: 169\n",
      "Image - Shape: (32, 32, 3)\n",
      "Label - Label Id: 2 Name: bird\n"
     ]
    },
    {
     "data": {
      "image/png": "[encoded data removed]",
      "text/plain": [
       "<matplotlib.figure.Figure at 0x7f98bf816e10>"
      ]
     },
     "metadata": {
      "image/png": {
       "height": 250,
       "width": 253
      }
     },
     "output_type": "display_data"
    }
   ],
   "source": [
    "%matplotlib inline\n",
    "%config InlineBackend.figure_format = 'retina'\n",
    "\n",
    "import helper\n",
    "import numpy as np\n",
    "\n",
    "# Explore the dataset\n",
    "batch_id = 4\n",
    "sample_id = 5\n",
    "helper.display_stats(cifar10_dataset_folder_path, batch_id, sample_id)"
   ]
  },
  {
   "cell_type": "markdown",
   "metadata": {},
   "source": [
    "## Implement Preprocess Functions\n",
    "### Normalize\n",
    "In the cell below, implement the `normalize` function to take in image data, `x`, and return it as a normalized Numpy array. The values should be in the range of 0 to 1, inclusive.  The return object should be the same shape as `x`."
   ]
  },
  {
   "cell_type": "code",
   "execution_count": 5,
   "metadata": {},
   "outputs": [
    {
     "name": "stdout",
     "output_type": "stream",
     "text": [
      "Tests Passed\n"
     ]
    }
   ],
   "source": [
    "def normalize(x):\n",
    "    \"\"\"\n",
    "    Normalize a list of sample image data in the range of 0 to 1\n",
    "    : x: List of image data.  The image shape is (32, 32, 3)\n",
    "    : return: Numpy array of normalize data\n",
    "    \"\"\"\n",
    "    # TODO: Implement Function\n",
    "    return x / 255\n",
    "\n",
    "\n",
    "\"\"\"\n",
    "DON'T MODIFY ANYTHING IN THIS CELL THAT IS BELOW THIS LINE\n",
    "\"\"\"\n",
    "tests.test_normalize(normalize)"
   ]
  },
  {
   "cell_type": "markdown",
   "metadata": {},
   "source": [
    "### One-hot encode\n",
    "Just like the previous code cell, you'll be implementing a function for preprocessing.  This time, you'll implement the `one_hot_encode` function. The input, `x`, are a list of labels.  Implement the function to return the list of labels as One-Hot encoded Numpy array.  The possible values for labels are 0 to 9. The one-hot encoding function should return the same encoding for each value between each call to `one_hot_encode`.  Make sure to save the map of encodings outside the function.\n",
    "\n",
    "**Hint:**\n",
    "\n",
    "Look into LabelBinarizer in the preprocessing module of sklearn."
   ]
  },
  {
   "cell_type": "code",
   "execution_count": 6,
   "metadata": {},
   "outputs": [
    {
     "name": "stdout",
     "output_type": "stream",
     "text": [
      "Tests Passed\n"
     ]
    }
   ],
   "source": [
    "def one_hot_encode(x):\n",
    "    \"\"\"\n",
    "    One hot encode a list of sample labels. Return a one-hot encoded vector for each label.\n",
    "    : x: List of sample Labels\n",
    "    : return: Numpy array of one-hot encoded labels\n",
    "    \"\"\"\n",
    "    # TODO: Implement Function\n",
    "    from sklearn.preprocessing import LabelBinarizer\n",
    "    encoder = LabelBinarizer()\n",
    "    encoder.fit([0,1,2,3,4,5,6,7,8,9])\n",
    "    return encoder.transform(x)\n",
    "\n",
    "\n",
    "\"\"\"\n",
    "DON'T MODIFY ANYTHING IN THIS CELL THAT IS BELOW THIS LINE\n",
    "\"\"\"\n",
    "tests.test_one_hot_encode(one_hot_encode)"
   ]
  },
  {
   "cell_type": "markdown",
   "metadata": {},
   "source": [
    "### Randomize Data\n",
    "As you saw from exploring the data above, the order of the samples are randomized.  It doesn't hurt to randomize it again, but you don't need to for this dataset."
   ]
  },
  {
   "cell_type": "markdown",
   "metadata": {},
   "source": [
    "## Preprocess all the data and save it\n",
    "Running the code cell below will preprocess all the CIFAR-10 data and save it to file. The code below also uses 10% of the training data for validation."
   ]
  },
  {
   "cell_type": "code",
   "execution_count": 7,
   "metadata": {
    "collapsed": true
   },
   "outputs": [],
   "source": [
    "\"\"\"\n",
    "DON'T MODIFY ANYTHING IN THIS CELL\n",
    "\"\"\"\n",
    "# Preprocess Training, Validation, and Testing Data\n",
    "helper.preprocess_and_save_data(cifar10_dataset_folder_path, normalize, one_hot_encode)"
   ]
  },
  {
   "cell_type": "markdown",
   "metadata": {},
   "source": [
    "# Check Point\n",
    "This is your first checkpoint.  If you ever decide to come back to this notebook or have to restart the notebook, you can start from here.  The preprocessed data has been saved to disk."
   ]
  },
  {
   "cell_type": "code",
   "execution_count": 8,
   "metadata": {
    "collapsed": true
   },
   "outputs": [],
   "source": [
    "\"\"\"\n",
    "DON'T MODIFY ANYTHING IN THIS CELL\n",
    "\"\"\"\n",
    "import pickle\n",
    "import problem_unittests as tests\n",
    "import helper\n",
    "\n",
    "# Load the Preprocessed Validation data\n",
    "valid_features, valid_labels = pickle.load(open('preprocess_validation.p', mode='rb'))"
   ]
  },
  {
   "cell_type": "markdown",
   "metadata": {},
   "source": [
    "## Build the network\n",
    "For the neural network, you'll build each layer into a function.  Most of the code you've seen has been outside of functions. To test your code more thoroughly, we require that you put each layer in a function.  This allows us to give you better feedback and test for simple mistakes using our unittests before you submit your project.\n",
    "\n",
    ">**Note:** If you're finding it hard to dedicate enough time for this course each week, we've provided a small shortcut to this part of the project. In the next couple of problems, you'll have the option to use classes from the [TensorFlow Layers](https://www.tensorflow.org/api_docs/python/tf/layers) or [TensorFlow Layers (contrib)](https://www.tensorflow.org/api_guides/python/contrib.layers) packages to build each layer, except the layers you build in the \"Convolutional and Max Pooling Layer\" section.  TF Layers is similar to Keras's and TFLearn's abstraction to layers, so it's easy to pickup.\n",
    "\n",
    ">However, if you would like to get the most out of this course, try to solve all the problems _without_ using anything from the TF Layers packages. You **can** still use classes from other packages that happen to have the same name as ones you find in TF Layers! For example, instead of using the TF Layers version of the `conv2d` class, [tf.layers.conv2d](https://www.tensorflow.org/api_docs/python/tf/layers/conv2d), you would want to use the TF Neural Network version of `conv2d`, [tf.nn.conv2d](https://www.tensorflow.org/api_docs/python/tf/nn/conv2d). \n",
    "\n",
    "Let's begin!\n",
    "\n",
    "### Input\n",
    "The neural network needs to read the image data, one-hot encoded labels, and dropout keep probability. Implement the following functions\n",
    "* Implement `neural_net_image_input`\n",
    " * Return a [TF Placeholder](https://www.tensorflow.org/api_docs/python/tf/placeholder)\n",
    " * Set the shape using `image_shape` with batch size set to `None`.\n",
    " * Name the TensorFlow placeholder \"x\" using the TensorFlow `name` parameter in the [TF Placeholder](https://www.tensorflow.org/api_docs/python/tf/placeholder).\n",
    "* Implement `neural_net_label_input`\n",
    " * Return a [TF Placeholder](https://www.tensorflow.org/api_docs/python/tf/placeholder)\n",
    " * Set the shape using `n_classes` with batch size set to `None`.\n",
    " * Name the TensorFlow placeholder \"y\" using the TensorFlow `name` parameter in the [TF Placeholder](https://www.tensorflow.org/api_docs/python/tf/placeholder).\n",
    "* Implement `neural_net_keep_prob_input`\n",
    " * Return a [TF Placeholder](https://www.tensorflow.org/api_docs/python/tf/placeholder) for dropout keep probability.\n",
    " * Name the TensorFlow placeholder \"keep_prob\" using the TensorFlow `name` parameter in the [TF Placeholder](https://www.tensorflow.org/api_docs/python/tf/placeholder).\n",
    "\n",
    "These names will be used at the end of the project to load your saved model.\n",
    "\n",
    "Note: `None` for shapes in TensorFlow allow for a dynamic size."
   ]
  },
  {
   "cell_type": "code",
   "execution_count": 9,
   "metadata": {},
   "outputs": [
    {
     "name": "stdout",
     "output_type": "stream",
     "text": [
      "Image Input Tests Passed.\n",
      "Label Input Tests Passed.\n",
      "Keep Prob Tests Passed.\n"
     ]
    }
   ],
   "source": [
    "import tensorflow as tf\n",
    "\n",
    "def neural_net_image_input(image_shape):\n",
    "    \"\"\"\n",
    "    Return a Tensor for a batch of image input\n",
    "    : image_shape: Shape of the images\n",
    "    : return: Tensor for image input.\n",
    "    \"\"\"\n",
    "    # TODO: Implement Function\n",
    "    return tf.placeholder(tf.float32, shape=[None, image_shape[0], image_shape[1], image_shape[2]], name='x')\n",
    "\n",
    "\n",
    "def neural_net_label_input(n_classes):\n",
    "    \"\"\"\n",
    "    Return a Tensor for a batch of label input\n",
    "    : n_classes: Number of classes\n",
    "    : return: Tensor for label input.\n",
    "    \"\"\"\n",
    "    # TODO: Implement Function\n",
    "    return tf.placeholder(tf.float32, shape=[None, n_classes], name='y')\n",
    "\n",
    "\n",
    "def neural_net_keep_prob_input():\n",
    "    \"\"\"\n",
    "    Return a Tensor for keep probability\n",
    "    : return: Tensor for keep probability.\n",
    "    \"\"\"\n",
    "    # TODO: Implement Function\n",
    "    return tf.placeholder(tf.float32, shape=(None), name='keep_prob')\n",
    "\n",
    "\n",
    "\"\"\"\n",
    "DON'T MODIFY ANYTHING IN THIS CELL THAT IS BELOW THIS LINE\n",
    "\"\"\"\n",
    "tf.reset_default_graph()\n",
    "tests.test_nn_image_inputs(neural_net_image_input)\n",
    "tests.test_nn_label_inputs(neural_net_label_input)\n",
    "tests.test_nn_keep_prob_inputs(neural_net_keep_prob_input)"
   ]
  },
  {
   "cell_type": "markdown",
   "metadata": {},
   "source": [
    "### Convolution and Max Pooling Layer\n",
    "Convolution layers have a lot of success with images. For this code cell, you should implement the function `conv2d_maxpool` to apply convolution then max pooling:\n",
    "* Create the weight and bias using `conv_ksize`, `conv_num_outputs` and the shape of `x_tensor`.\n",
    "* Apply a convolution to `x_tensor` using weight and `conv_strides`.\n",
    " * We recommend you use same padding, but you're welcome to use any padding.\n",
    "* Add bias\n",
    "* Add a nonlinear activation to the convolution.\n",
    "* Apply Max Pooling using `pool_ksize` and `pool_strides`.\n",
    " * We recommend you use same padding, but you're welcome to use any padding.\n",
    "\n",
    "**Note:** You **can't** use [TensorFlow Layers](https://www.tensorflow.org/api_docs/python/tf/layers) or [TensorFlow Layers (contrib)](https://www.tensorflow.org/api_guides/python/contrib.layers) for **this** layer, but you can still use TensorFlow's [Neural Network](https://www.tensorflow.org/api_docs/python/tf/nn) package. You may still use the shortcut option for all the **other** layers.\n",
    "\n",
    "** Hint: **\n",
    "\n",
    "When unpacking values as an argument in Python, look into the [unpacking](https://docs.python.org/3/tutorial/controlflow.html#unpacking-argument-lists) operator. "
   ]
  },
  {
   "cell_type": "code",
   "execution_count": 10,
   "metadata": {},
   "outputs": [
    {
     "name": "stdout",
     "output_type": "stream",
     "text": [
      "Tests Passed\n"
     ]
    }
   ],
   "source": [
    "def conv2d_maxpool(x_tensor, conv_num_outputs, conv_ksize, conv_strides, pool_ksize, pool_strides):\n",
    "    \"\"\"\n",
    "    Apply convolution then max pooling to x_tensor\n",
    "    :param x_tensor: TensorFlow Tensor\n",
    "    :param conv_num_outputs: Number of outputs for the convolutional layer\n",
    "    :param conv_ksize: kernal size 2-D Tuple for the convolutional layer\n",
    "    :param conv_strides: Stride 2-D Tuple for convolution\n",
    "    :param pool_ksize: kernal size 2-D Tuple for pool\n",
    "    :param pool_strides: Stride 2-D Tuple for pool\n",
    "    : return: A tensor that represents convolution and max pooling of x_tensor\n",
    "    \"\"\"\n",
    "    # TODO: Implement Function\n",
    "    w_shape = [conv_ksize[0], conv_ksize[1], x_tensor.get_shape().as_list()[3], conv_num_outputs]\n",
    "    #from math import sqrt\n",
    "    #stddev = sqrt(2/(conv_ksize[0] * conv_ksize[1] * x_tensor.get_shape().as_list()[3]))\n",
    "    weight = tf.Variable(tf.truncated_normal(w_shape, stddev=0.01))\n",
    "    bias = tf.Variable(tf.zeros(conv_num_outputs))\n",
    "\n",
    "    conv_layer = tf.nn.conv2d(x_tensor, weight, strides=[1, conv_strides[0], conv_strides[1], 1], padding='SAME')\n",
    "    conv_layer = tf.nn.bias_add(conv_layer, bias)\n",
    "    conv_layer = tf.nn.relu(conv_layer)\n",
    "    conv_layer = tf.nn.max_pool(conv_layer, \n",
    "                                ksize=[1, pool_ksize[0], pool_ksize[1], 1], \n",
    "                                strides=[1, pool_strides[0], pool_strides[1], 1],\n",
    "                                padding='SAME')\n",
    "    return conv_layer\n",
    "\n",
    "\n",
    "\"\"\"\n",
    "DON'T MODIFY ANYTHING IN THIS CELL THAT IS BELOW THIS LINE\n",
    "\"\"\"\n",
    "tests.test_con_pool(conv2d_maxpool)"
   ]
  },
  {
   "cell_type": "markdown",
   "metadata": {},
   "source": [
    "### Flatten Layer\n",
    "Implement the `flatten` function to change the dimension of `x_tensor` from a 4-D tensor to a 2-D tensor.  The output should be the shape (*Batch Size*, *Flattened Image Size*). Shortcut option: you can use classes from the [TensorFlow Layers](https://www.tensorflow.org/api_docs/python/tf/layers) or [TensorFlow Layers (contrib)](https://www.tensorflow.org/api_guides/python/contrib.layers) packages for this layer. For more of a challenge, only use other TensorFlow packages."
   ]
  },
  {
   "cell_type": "code",
   "execution_count": 11,
   "metadata": {},
   "outputs": [
    {
     "name": "stdout",
     "output_type": "stream",
     "text": [
      "Tests Passed\n"
     ]
    }
   ],
   "source": [
    "def flatten(x_tensor):\n",
    "    \"\"\"\n",
    "    Flatten x_tensor to (Batch Size, Flattened Image Size)\n",
    "    : x_tensor: A tensor of size (Batch Size, ...), where ... are the image dimensions.\n",
    "    : return: A tensor of size (Batch Size, Flattened Image Size).\n",
    "    \"\"\"\n",
    "    # TODO: Implement Function\n",
    "    return tf.contrib.layers.flatten(x_tensor)\n",
    "\n",
    "\n",
    "\"\"\"\n",
    "DON'T MODIFY ANYTHING IN THIS CELL THAT IS BELOW THIS LINE\n",
    "\"\"\"\n",
    "tests.test_flatten(flatten)"
   ]
  },
  {
   "cell_type": "markdown",
   "metadata": {},
   "source": [
    "### Fully-Connected Layer\n",
    "Implement the `fully_conn` function to apply a fully connected layer to `x_tensor` with the shape (*Batch Size*, *num_outputs*). Shortcut option: you can use classes from the [TensorFlow Layers](https://www.tensorflow.org/api_docs/python/tf/layers) or [TensorFlow Layers (contrib)](https://www.tensorflow.org/api_guides/python/contrib.layers) packages for this layer. For more of a challenge, only use other TensorFlow packages."
   ]
  },
  {
   "cell_type": "code",
   "execution_count": 12,
   "metadata": {},
   "outputs": [
    {
     "name": "stdout",
     "output_type": "stream",
     "text": [
      "Tests Passed\n"
     ]
    }
   ],
   "source": [
    "def fully_conn(x_tensor, num_outputs):\n",
    "    \"\"\"\n",
    "    Apply a fully connected layer to x_tensor using weight and bias\n",
    "    : x_tensor: A 2-D tensor where the first dimension is batch size.\n",
    "    : num_outputs: The number of output that the new tensor should be.\n",
    "    : return: A 2-D tensor where the second dimension is num_outputs.\n",
    "    \"\"\"\n",
    "    # TODO: Implement Function\n",
    "    return tf.contrib.layers.fully_connected(x_tensor, num_outputs=num_outputs)\n",
    "\n",
    "\n",
    "\"\"\"\n",
    "DON'T MODIFY ANYTHING IN THIS CELL THAT IS BELOW THIS LINE\n",
    "\"\"\"\n",
    "tests.test_fully_conn(fully_conn)"
   ]
  },
  {
   "cell_type": "markdown",
   "metadata": {},
   "source": [
    "### Output Layer\n",
    "Implement the `output` function to apply a fully connected layer to `x_tensor` with the shape (*Batch Size*, *num_outputs*). Shortcut option: you can use classes from the [TensorFlow Layers](https://www.tensorflow.org/api_docs/python/tf/layers) or [TensorFlow Layers (contrib)](https://www.tensorflow.org/api_guides/python/contrib.layers) packages for this layer. For more of a challenge, only use other TensorFlow packages.\n",
    "\n",
    "**Note:** Activation, softmax, or cross entropy should **not** be applied to this."
   ]
  },
  {
   "cell_type": "code",
   "execution_count": 13,
   "metadata": {},
   "outputs": [
    {
     "name": "stdout",
     "output_type": "stream",
     "text": [
      "Tests Passed\n"
     ]
    }
   ],
   "source": [
    "def output(x_tensor, num_outputs):\n",
    "    \"\"\"\n",
    "    Apply a output layer to x_tensor using weight and bias\n",
    "    : x_tensor: A 2-D tensor where the first dimension is batch size.\n",
    "    : num_outputs: The number of output that the new tensor should be.\n",
    "    : return: A 2-D tensor where the second dimension is num_outputs.\n",
    "    \"\"\"\n",
    "    # TODO: Implement Function\n",
    "    num_features = x_tensor.shape[1].value\n",
    "    weight = tf.Variable(tf.truncated_normal([num_features, num_outputs]))\n",
    "    biase = tf.Variable(tf.zeros([num_outputs]))\n",
    "    output_layer = tf.add(tf.matmul(x_tensor, weight), biase)\n",
    "    return output_layer\n",
    "\n",
    "\n",
    "\"\"\"\n",
    "DON'T MODIFY ANYTHING IN THIS CELL THAT IS BELOW THIS LINE\n",
    "\"\"\"\n",
    "tests.test_output(output)"
   ]
  },
  {
   "cell_type": "markdown",
   "metadata": {},
   "source": [
    "### Create Convolutional Model\n",
    "Implement the function `conv_net` to create a convolutional neural network model. The function takes in a batch of images, `x`, and outputs logits.  Use the layers you created above to create this model:\n",
    "\n",
    "* Apply 1, 2, or 3 Convolution and Max Pool layers\n",
    "* Apply a Flatten Layer\n",
    "* Apply 1, 2, or 3 Fully Connected Layers\n",
    "* Apply an Output Layer\n",
    "* Return the output\n",
    "* Apply [TensorFlow's Dropout](https://www.tensorflow.org/api_docs/python/tf/nn/dropout) to one or more layers in the model using `keep_prob`. "
   ]
  },
  {
   "cell_type": "code",
   "execution_count": 14,
   "metadata": {},
   "outputs": [
    {
     "name": "stdout",
     "output_type": "stream",
     "text": [
      "Neural Network Built!\n"
     ]
    }
   ],
   "source": [
    "def conv_net(x, keep_prob):\n",
    "    \"\"\"\n",
    "    Create a convolutional neural network model\n",
    "    : x: Placeholder tensor that holds image data.\n",
    "    : keep_prob: Placeholder tensor that hold dropout keep probability.\n",
    "    : return: Tensor that represents logits\n",
    "    \"\"\"\n",
    "    # TODO: Apply 1, 2, or 3 Convolution and Max Pool layers\n",
    "    #    Play around with different number of outputs, kernel size and stride\n",
    "    # Function Definition from Above:\n",
    "    #    conv2d_maxpool(x_tensor, conv_num_outputs, conv_ksize, conv_strides, pool_ksize, pool_strides)\n",
    "    conv_num_outputs_1 = 32\n",
    "    conv_num_outputs_2 = 64\n",
    "    conv_num_outputs_3 = 128\n",
    "    \n",
    "    conv_ksize = [3, 3]\n",
    "    conv_strides = [1, 1]\n",
    "    pool_ksize = [2, 2]\n",
    "    pool_strides = [2, 2]\n",
    "    \n",
    "    conv_layer_1 = conv2d_maxpool(x, conv_num_outputs_1, conv_ksize, conv_strides, pool_ksize, pool_strides)\n",
    "    conv_layer_2 = conv2d_maxpool(conv_layer_1, conv_num_outputs_2, conv_ksize, conv_strides, pool_ksize, pool_strides)\n",
    "    conv_layer_3 = conv2d_maxpool(conv_layer_2, conv_num_outputs_3, conv_ksize, conv_strides, pool_ksize, pool_strides)\n",
    "\n",
    "    # TODO: Apply a Flatten Layer\n",
    "    # Function Definition from Above:\n",
    "    #   flatten(x_tensor)\n",
    "    flatten_layer = flatten(conv_layer_3)\n",
    "\n",
    "    # TODO: Apply 1, 2, or 3 Fully Connected Layers\n",
    "    #    Play around with different number of outputs\n",
    "    # Function Definition from Above:\n",
    "    #   fully_conn(x_tensor, num_outputs)\n",
    "    fully_connected_layer_1 = fully_conn(flatten_layer, 100)\n",
    "    fully_dropout = tf.nn.dropout(fully_connected_layer_1, keep_prob)\n",
    "    fully_connected_layer_2 = fully_conn(fully_dropout, 100)\n",
    "    \n",
    "    # TODO: Apply an Output Layer\n",
    "    #    Set this to the number of classes\n",
    "    # Function Definition from Above:\n",
    "    #   output(x_tensor, num_outputs)\n",
    "    output_layer = output(fully_connected_layer_2, 10)\n",
    "    \n",
    "    # TODO: return output\n",
    "    return output_layer\n",
    "\n",
    "\n",
    "\"\"\"\n",
    "DON'T MODIFY ANYTHING IN THIS CELL THAT IS BELOW THIS LINE\n",
    "\"\"\"\n",
    "\n",
    "##############################\n",
    "## Build the Neural Network ##\n",
    "##############################\n",
    "\n",
    "# Remove previous weights, bias, inputs, etc..\n",
    "tf.reset_default_graph()\n",
    "\n",
    "# Inputs\n",
    "x = neural_net_image_input((32, 32, 3))\n",
    "y = neural_net_label_input(10)\n",
    "keep_prob = neural_net_keep_prob_input()\n",
    "\n",
    "# Model\n",
    "logits = conv_net(x, keep_prob)\n",
    "\n",
    "# Name logits Tensor, so that is can be loaded from disk after training\n",
    "logits = tf.identity(logits, name='logits')\n",
    "\n",
    "# Loss and Optimizer\n",
    "cost = tf.reduce_mean(tf.nn.softmax_cross_entropy_with_logits(logits=logits, labels=y))\n",
    "optimizer = tf.train.AdamOptimizer().minimize(cost)\n",
    "\n",
    "# Accuracy\n",
    "correct_pred = tf.equal(tf.argmax(logits, 1), tf.argmax(y, 1))\n",
    "accuracy = tf.reduce_mean(tf.cast(correct_pred, tf.float32), name='accuracy')\n",
    "\n",
    "tests.test_conv_net(conv_net)"
   ]
  },
  {
   "cell_type": "markdown",
   "metadata": {},
   "source": [
    "## Train the Neural Network\n",
    "### Single Optimization\n",
    "Implement the function `train_neural_network` to do a single optimization.  The optimization should use `optimizer` to optimize in `session` with a `feed_dict` of the following:\n",
    "* `x` for image input\n",
    "* `y` for labels\n",
    "* `keep_prob` for keep probability for dropout\n",
    "\n",
    "This function will be called for each batch, so `tf.global_variables_initializer()` has already been called.\n",
    "\n",
    "Note: Nothing needs to be returned. This function is only optimizing the neural network."
   ]
  },
  {
   "cell_type": "code",
   "execution_count": 15,
   "metadata": {},
   "outputs": [
    {
     "name": "stdout",
     "output_type": "stream",
     "text": [
      "Tests Passed\n"
     ]
    }
   ],
   "source": [
    "def train_neural_network(session, optimizer, keep_probability, feature_batch, label_batch):\n",
    "    \"\"\"\n",
    "    Optimize the session on a batch of images and labels\n",
    "    : session: Current TensorFlow session\n",
    "    : optimizer: TensorFlow optimizer function\n",
    "    : keep_probability: keep probability\n",
    "    : feature_batch: Batch of Numpy image data\n",
    "    : label_batch: Batch of Numpy label data\n",
    "    \"\"\"\n",
    "    # TODO: Implement Function\n",
    "    session.run(optimizer, feed_dict={x: feature_batch, y:label_batch, keep_prob: keep_probability})\n",
    "\n",
    "\"\"\"\n",
    "DON'T MODIFY ANYTHING IN THIS CELL THAT IS BELOW THIS LINE\n",
    "\"\"\"\n",
    "tests.test_train_nn(train_neural_network)"
   ]
  },
  {
   "cell_type": "markdown",
   "metadata": {},
   "source": [
    "### Show Stats\n",
    "Implement the function `print_stats` to print loss and validation accuracy.  Use the global variables `valid_features` and `valid_labels` to calculate validation accuracy.  Use a keep probability of `1.0` to calculate the loss and validation accuracy."
   ]
  },
  {
   "cell_type": "code",
   "execution_count": 16,
   "metadata": {
    "collapsed": true
   },
   "outputs": [],
   "source": [
    "def print_stats(session, feature_batch, label_batch, cost, accuracy):\n",
    "    \"\"\"\n",
    "    Print information about loss and validation accuracy\n",
    "    : session: Current TensorFlow session\n",
    "    : feature_batch: Batch of Numpy image data\n",
    "    : label_batch: Batch of Numpy label data\n",
    "    : cost: TensorFlow cost function\n",
    "    : accuracy: TensorFlow accuracy function\n",
    "    \"\"\"\n",
    "    # TODO: Implement Function\n",
    "    loss = session.run(cost, feed_dict={x: feature_batch, y: label_batch, keep_prob: 1.})\n",
    "    acc = sess.run(accuracy, feed_dict={\n",
    "                x: valid_features,\n",
    "                y: valid_labels,\n",
    "                keep_prob: 1.})\n",
    "    \n",
    "    print('Loss={0} Validation Accuracy={1}'.format(loss, acc))"
   ]
  },
  {
   "cell_type": "markdown",
   "metadata": {},
   "source": [
    "### Hyperparameters\n",
    "Tune the following parameters:\n",
    "* Set `epochs` to the number of iterations until the network stops learning or start overfitting\n",
    "* Set `batch_size` to the highest number that your machine has memory for.  Most people set them to common sizes of memory:\n",
    " * 64\n",
    " * 128\n",
    " * 256\n",
    " * ...\n",
    "* Set `keep_probability` to the probability of keeping a node using dropout"
   ]
  },
  {
   "cell_type": "code",
   "execution_count": 18,
   "metadata": {
    "collapsed": true
   },
   "outputs": [],
   "source": [
    "# TODO: Tune Parameters\n",
    "epochs = 25\n",
    "batch_size = 256\n",
    "keep_probability = 0.8"
   ]
  },
  {
   "cell_type": "markdown",
   "metadata": {},
   "source": [
    "### Train on a Single CIFAR-10 Batch\n",
    "Instead of training the neural network on all the CIFAR-10 batches of data, let's use a single batch. This should save time while you iterate on the model to get a better accuracy.  Once the final validation accuracy is 50% or greater, run the model on all the data in the next section."
   ]
  },
  {
   "cell_type": "code",
   "execution_count": 20,
   "metadata": {},
   "outputs": [
    {
     "name": "stdout",
     "output_type": "stream",
     "text": [
      "Checking the Training on a Single Batch...\n",
      "Epoch  1, CIFAR-10 Batch 1:  Loss=2.201068878173828 Validation Accuracy=0.23819999396800995\n",
      "Epoch  2, CIFAR-10 Batch 1:  Loss=2.136038303375244 Validation Accuracy=0.2630000114440918\n",
      "Epoch  3, CIFAR-10 Batch 1:  Loss=2.1196200847625732 Validation Accuracy=0.28839999437332153\n",
      "Epoch  4, CIFAR-10 Batch 1:  Loss=2.0869128704071045 Validation Accuracy=0.30820000171661377\n",
      "Epoch  5, CIFAR-10 Batch 1:  Loss=1.962769865989685 Validation Accuracy=0.35120001435279846\n",
      "Epoch  6, CIFAR-10 Batch 1:  Loss=1.8238766193389893 Validation Accuracy=0.3783999979496002\n",
      "Epoch  7, CIFAR-10 Batch 1:  Loss=1.6746829748153687 Validation Accuracy=0.4027999937534332\n",
      "Epoch  8, CIFAR-10 Batch 1:  Loss=1.565663456916809 Validation Accuracy=0.41659998893737793\n",
      "Epoch  9, CIFAR-10 Batch 1:  Loss=1.5372698307037354 Validation Accuracy=0.4327999949455261\n",
      "Epoch 10, CIFAR-10 Batch 1:  Loss=1.3937749862670898 Validation Accuracy=0.4438000023365021\n",
      "Epoch 11, CIFAR-10 Batch 1:  Loss=1.4761205911636353 Validation Accuracy=0.43639999628067017\n",
      "Epoch 12, CIFAR-10 Batch 1:  Loss=1.2633392810821533 Validation Accuracy=0.4731999933719635\n",
      "Epoch 13, CIFAR-10 Batch 1:  Loss=1.2079747915267944 Validation Accuracy=0.47600001096725464\n",
      "Epoch 14, CIFAR-10 Batch 1:  Loss=1.1341512203216553 Validation Accuracy=0.48899999260902405\n",
      "Epoch 15, CIFAR-10 Batch 1:  Loss=1.070465326309204 Validation Accuracy=0.49380001425743103\n",
      "Epoch 16, CIFAR-10 Batch 1:  Loss=1.0184259414672852 Validation Accuracy=0.49939998984336853\n",
      "Epoch 17, CIFAR-10 Batch 1:  Loss=0.9657267332077026 Validation Accuracy=0.5040000081062317\n",
      "Epoch 18, CIFAR-10 Batch 1:  Loss=0.9047557711601257 Validation Accuracy=0.5095999836921692\n",
      "Epoch 19, CIFAR-10 Batch 1:  Loss=0.8887069821357727 Validation Accuracy=0.5145999789237976\n",
      "Epoch 20, CIFAR-10 Batch 1:  Loss=0.8156191110610962 Validation Accuracy=0.5235999822616577\n",
      "Epoch 21, CIFAR-10 Batch 1:  Loss=0.742636501789093 Validation Accuracy=0.5293999910354614\n",
      "Epoch 22, CIFAR-10 Batch 1:  Loss=0.6843777298927307 Validation Accuracy=0.5284000039100647\n",
      "Epoch 23, CIFAR-10 Batch 1:  Loss=0.6564781069755554 Validation Accuracy=0.5267999768257141\n",
      "Epoch 24, CIFAR-10 Batch 1:  Loss=0.6388578414916992 Validation Accuracy=0.5296000242233276\n",
      "Epoch 25, CIFAR-10 Batch 1:  Loss=0.6073598861694336 Validation Accuracy=0.5429999828338623\n"
     ]
    }
   ],
   "source": [
    "\"\"\"\n",
    "DON'T MODIFY ANYTHING IN THIS CELL\n",
    "\"\"\"\n",
    "print('Checking the Training on a Single Batch...')\n",
    "with tf.Session() as sess:\n",
    "    # Initializing the variables\n",
    "    sess.run(tf.global_variables_initializer())\n",
    "    \n",
    "    # Training cycle\n",
    "    for epoch in range(epochs):\n",
    "        batch_i = 1\n",
    "        for batch_features, batch_labels in helper.load_preprocess_training_batch(batch_i, batch_size):\n",
    "            train_neural_network(sess, optimizer, keep_probability, batch_features, batch_labels)\n",
    "        print('Epoch {:>2}, CIFAR-10 Batch {}:  '.format(epoch + 1, batch_i), end='')\n",
    "        print_stats(sess, batch_features, batch_labels, cost, accuracy)"
   ]
  },
  {
   "cell_type": "markdown",
   "metadata": {},
   "source": [
    "### Fully Train the Model\n",
    "Now that you got a good accuracy with a single CIFAR-10 batch, try it with all five batches."
   ]
  },
  {
   "cell_type": "code",
   "execution_count": 21,
   "metadata": {},
   "outputs": [
    {
     "name": "stdout",
     "output_type": "stream",
     "text": [
      "Training...\n",
      "Epoch  1, CIFAR-10 Batch 1:  Loss=2.190594434738159 Validation Accuracy=0.2029999941587448\n",
      "Epoch  1, CIFAR-10 Batch 2:  Loss=2.134244203567505 Validation Accuracy=0.26600000262260437\n",
      "Epoch  1, CIFAR-10 Batch 3:  Loss=1.7906824350357056 Validation Accuracy=0.2897999882698059\n",
      "Epoch  1, CIFAR-10 Batch 4:  Loss=1.812718391418457 Validation Accuracy=0.323199987411499\n",
      "Epoch  1, CIFAR-10 Batch 5:  Loss=1.842674970626831 Validation Accuracy=0.3490000069141388\n",
      "Epoch  2, CIFAR-10 Batch 1:  Loss=1.891021728515625 Validation Accuracy=0.38019999861717224\n",
      "Epoch  2, CIFAR-10 Batch 2:  Loss=1.7509218454360962 Validation Accuracy=0.4009999930858612\n",
      "Epoch  2, CIFAR-10 Batch 3:  Loss=1.4405804872512817 Validation Accuracy=0.38339999318122864\n",
      "Epoch  2, CIFAR-10 Batch 4:  Loss=1.5744225978851318 Validation Accuracy=0.42320001125335693\n",
      "Epoch  2, CIFAR-10 Batch 5:  Loss=1.6284338235855103 Validation Accuracy=0.42879998683929443\n",
      "Epoch  3, CIFAR-10 Batch 1:  Loss=1.648965835571289 Validation Accuracy=0.45980000495910645\n",
      "Epoch  3, CIFAR-10 Batch 2:  Loss=1.5149790048599243 Validation Accuracy=0.45980000495910645\n",
      "Epoch  3, CIFAR-10 Batch 3:  Loss=1.1975071430206299 Validation Accuracy=0.4625999927520752\n",
      "Epoch  3, CIFAR-10 Batch 4:  Loss=1.3634065389633179 Validation Accuracy=0.48420000076293945\n",
      "Epoch  3, CIFAR-10 Batch 5:  Loss=1.4429848194122314 Validation Accuracy=0.48919999599456787\n",
      "Epoch  4, CIFAR-10 Batch 1:  Loss=1.3989181518554688 Validation Accuracy=0.49300000071525574\n",
      "Epoch  4, CIFAR-10 Batch 2:  Loss=1.30215322971344 Validation Accuracy=0.5070000290870667\n",
      "Epoch  4, CIFAR-10 Batch 3:  Loss=1.0701775550842285 Validation Accuracy=0.4803999960422516\n",
      "Epoch  4, CIFAR-10 Batch 4:  Loss=1.2996797561645508 Validation Accuracy=0.52920001745224\n",
      "Epoch  4, CIFAR-10 Batch 5:  Loss=1.2702291011810303 Validation Accuracy=0.5260000228881836\n",
      "Epoch  5, CIFAR-10 Batch 1:  Loss=1.3034671545028687 Validation Accuracy=0.5383999943733215\n",
      "Epoch  5, CIFAR-10 Batch 2:  Loss=1.133278489112854 Validation Accuracy=0.5338000059127808\n",
      "Epoch  5, CIFAR-10 Batch 3:  Loss=0.9273335337638855 Validation Accuracy=0.5338000059127808\n",
      "Epoch  5, CIFAR-10 Batch 4:  Loss=1.1098833084106445 Validation Accuracy=0.5388000011444092\n",
      "Epoch  5, CIFAR-10 Batch 5:  Loss=1.1385527849197388 Validation Accuracy=0.5473999977111816\n",
      "Epoch  6, CIFAR-10 Batch 1:  Loss=1.2112680673599243 Validation Accuracy=0.5590000152587891\n",
      "Epoch  6, CIFAR-10 Batch 2:  Loss=0.9630929827690125 Validation Accuracy=0.5496000051498413\n",
      "Epoch  6, CIFAR-10 Batch 3:  Loss=0.8261528015136719 Validation Accuracy=0.5565999746322632\n",
      "Epoch  6, CIFAR-10 Batch 4:  Loss=0.9657599329948425 Validation Accuracy=0.5663999915122986\n",
      "Epoch  6, CIFAR-10 Batch 5:  Loss=0.9953863024711609 Validation Accuracy=0.571399986743927\n",
      "Epoch  7, CIFAR-10 Batch 1:  Loss=1.1152867078781128 Validation Accuracy=0.5799999833106995\n",
      "Epoch  7, CIFAR-10 Batch 2:  Loss=0.8568432927131653 Validation Accuracy=0.5889999866485596\n",
      "Epoch  7, CIFAR-10 Batch 3:  Loss=0.701461136341095 Validation Accuracy=0.5842000246047974\n",
      "Epoch  7, CIFAR-10 Batch 4:  Loss=0.8253355026245117 Validation Accuracy=0.5983999967575073\n",
      "Epoch  7, CIFAR-10 Batch 5:  Loss=0.9447447061538696 Validation Accuracy=0.6025999784469604\n",
      "Epoch  8, CIFAR-10 Batch 1:  Loss=0.9794764518737793 Validation Accuracy=0.5924000144004822\n",
      "Epoch  8, CIFAR-10 Batch 2:  Loss=0.7405257225036621 Validation Accuracy=0.6132000088691711\n",
      "Epoch  8, CIFAR-10 Batch 3:  Loss=0.5816231369972229 Validation Accuracy=0.6093999743461609\n",
      "Epoch  8, CIFAR-10 Batch 4:  Loss=0.7130011320114136 Validation Accuracy=0.6151999831199646\n",
      "Epoch  8, CIFAR-10 Batch 5:  Loss=0.835028350353241 Validation Accuracy=0.6226000189781189\n",
      "Epoch  9, CIFAR-10 Batch 1:  Loss=0.8837209939956665 Validation Accuracy=0.6146000027656555\n",
      "Epoch  9, CIFAR-10 Batch 2:  Loss=0.693567156791687 Validation Accuracy=0.6064000129699707\n",
      "Epoch  9, CIFAR-10 Batch 3:  Loss=0.5399527549743652 Validation Accuracy=0.6230000257492065\n",
      "Epoch  9, CIFAR-10 Batch 4:  Loss=0.6443411111831665 Validation Accuracy=0.6373999714851379\n",
      "Epoch  9, CIFAR-10 Batch 5:  Loss=0.7122668027877808 Validation Accuracy=0.6262000203132629\n",
      "Epoch 10, CIFAR-10 Batch 1:  Loss=0.7316807508468628 Validation Accuracy=0.640999972820282\n",
      "Epoch 10, CIFAR-10 Batch 2:  Loss=0.6240658760070801 Validation Accuracy=0.6367999911308289\n",
      "Epoch 10, CIFAR-10 Batch 3:  Loss=0.4631471037864685 Validation Accuracy=0.6380000114440918\n",
      "Epoch 10, CIFAR-10 Batch 4:  Loss=0.571783721446991 Validation Accuracy=0.6520000100135803\n",
      "Epoch 10, CIFAR-10 Batch 5:  Loss=0.6510106325149536 Validation Accuracy=0.6431999802589417\n",
      "Epoch 11, CIFAR-10 Batch 1:  Loss=0.6819361448287964 Validation Accuracy=0.6570000052452087\n",
      "Epoch 11, CIFAR-10 Batch 2:  Loss=0.574184238910675 Validation Accuracy=0.6255999803543091\n",
      "Epoch 11, CIFAR-10 Batch 3:  Loss=0.4486296772956848 Validation Accuracy=0.6474000215530396\n",
      "Epoch 11, CIFAR-10 Batch 4:  Loss=0.5608735084533691 Validation Accuracy=0.6564000248908997\n",
      "Epoch 11, CIFAR-10 Batch 5:  Loss=0.5952421426773071 Validation Accuracy=0.6585999727249146\n",
      "Epoch 12, CIFAR-10 Batch 1:  Loss=0.6044650673866272 Validation Accuracy=0.6413999795913696\n",
      "Epoch 12, CIFAR-10 Batch 2:  Loss=0.5103631019592285 Validation Accuracy=0.6534000039100647\n",
      "Epoch 12, CIFAR-10 Batch 3:  Loss=0.3946091830730438 Validation Accuracy=0.6556000113487244\n",
      "Epoch 12, CIFAR-10 Batch 4:  Loss=0.5111656188964844 Validation Accuracy=0.6668000221252441\n",
      "Epoch 12, CIFAR-10 Batch 5:  Loss=0.5541505217552185 Validation Accuracy=0.6553999781608582\n",
      "Epoch 13, CIFAR-10 Batch 1:  Loss=0.5537596940994263 Validation Accuracy=0.6407999992370605\n",
      "Epoch 13, CIFAR-10 Batch 2:  Loss=0.4820152819156647 Validation Accuracy=0.6642000079154968\n",
      "Epoch 13, CIFAR-10 Batch 3:  Loss=0.3688506484031677 Validation Accuracy=0.6633999943733215\n",
      "Epoch 13, CIFAR-10 Batch 4:  Loss=0.5052562952041626 Validation Accuracy=0.6615999937057495\n",
      "Epoch 13, CIFAR-10 Batch 5:  Loss=0.4949612617492676 Validation Accuracy=0.6625999808311462\n",
      "Epoch 14, CIFAR-10 Batch 1:  Loss=0.4398941099643707 Validation Accuracy=0.6521999835968018\n",
      "Epoch 14, CIFAR-10 Batch 2:  Loss=0.47113627195358276 Validation Accuracy=0.6597999930381775\n",
      "Epoch 14, CIFAR-10 Batch 3:  Loss=0.3620374798774719 Validation Accuracy=0.6629999876022339\n",
      "Epoch 14, CIFAR-10 Batch 4:  Loss=0.44842901825904846 Validation Accuracy=0.6710000038146973\n",
      "Epoch 14, CIFAR-10 Batch 5:  Loss=0.40414705872535706 Validation Accuracy=0.6809999942779541\n",
      "Epoch 15, CIFAR-10 Batch 1:  Loss=0.4169766306877136 Validation Accuracy=0.6600000262260437\n",
      "Epoch 15, CIFAR-10 Batch 2:  Loss=0.4241524636745453 Validation Accuracy=0.6650000214576721\n",
      "Epoch 15, CIFAR-10 Batch 3:  Loss=0.30408260226249695 Validation Accuracy=0.6772000193595886\n",
      "Epoch 15, CIFAR-10 Batch 4:  Loss=0.44227519631385803 Validation Accuracy=0.6772000193595886\n",
      "Epoch 15, CIFAR-10 Batch 5:  Loss=0.404263973236084 Validation Accuracy=0.6741999983787537\n",
      "Epoch 16, CIFAR-10 Batch 1:  Loss=0.4324522912502289 Validation Accuracy=0.6538000106811523\n",
      "Epoch 16, CIFAR-10 Batch 2:  Loss=0.3762536942958832 Validation Accuracy=0.6711999773979187\n",
      "Epoch 16, CIFAR-10 Batch 3:  Loss=0.2735612988471985 Validation Accuracy=0.6754000186920166\n",
      "Epoch 16, CIFAR-10 Batch 4:  Loss=0.37292593717575073 Validation Accuracy=0.6797999739646912\n",
      "Epoch 16, CIFAR-10 Batch 5:  Loss=0.3498409390449524 Validation Accuracy=0.6883999705314636\n",
      "Epoch 17, CIFAR-10 Batch 1:  Loss=0.3560851514339447 Validation Accuracy=0.6639999747276306\n",
      "Epoch 17, CIFAR-10 Batch 2:  Loss=0.34477508068084717 Validation Accuracy=0.6805999875068665\n",
      "Epoch 17, CIFAR-10 Batch 3:  Loss=0.23068800568580627 Validation Accuracy=0.6714000105857849\n",
      "Epoch 17, CIFAR-10 Batch 4:  Loss=0.35023796558380127 Validation Accuracy=0.6880000233650208\n",
      "Epoch 17, CIFAR-10 Batch 5:  Loss=0.3301873207092285 Validation Accuracy=0.6833999752998352\n",
      "Epoch 18, CIFAR-10 Batch 1:  Loss=0.3351394534111023 Validation Accuracy=0.6585999727249146\n",
      "Epoch 18, CIFAR-10 Batch 2:  Loss=0.3372427523136139 Validation Accuracy=0.6830000281333923\n",
      "Epoch 18, CIFAR-10 Batch 3:  Loss=0.2479572296142578 Validation Accuracy=0.6832000017166138\n",
      "Epoch 18, CIFAR-10 Batch 4:  Loss=0.34977132081985474 Validation Accuracy=0.6801999807357788\n"
     ]
    },
    {
     "name": "stdout",
     "output_type": "stream",
     "text": [
      "Epoch 18, CIFAR-10 Batch 5:  Loss=0.3332950174808502 Validation Accuracy=0.6876000165939331\n",
      "Epoch 19, CIFAR-10 Batch 1:  Loss=0.31298574805259705 Validation Accuracy=0.6952000260353088\n",
      "Epoch 19, CIFAR-10 Batch 2:  Loss=0.30875730514526367 Validation Accuracy=0.6796000003814697\n",
      "Epoch 19, CIFAR-10 Batch 3:  Loss=0.17176711559295654 Validation Accuracy=0.694599986076355\n",
      "Epoch 19, CIFAR-10 Batch 4:  Loss=0.31869640946388245 Validation Accuracy=0.6890000104904175\n",
      "Epoch 19, CIFAR-10 Batch 5:  Loss=0.29414620995521545 Validation Accuracy=0.6880000233650208\n",
      "Epoch 20, CIFAR-10 Batch 1:  Loss=0.28490784764289856 Validation Accuracy=0.6636000275611877\n",
      "Epoch 20, CIFAR-10 Batch 2:  Loss=0.2875552177429199 Validation Accuracy=0.6883999705314636\n",
      "Epoch 20, CIFAR-10 Batch 3:  Loss=0.21593077480793 Validation Accuracy=0.6833999752998352\n",
      "Epoch 20, CIFAR-10 Batch 4:  Loss=0.2938184142112732 Validation Accuracy=0.6952000260353088\n",
      "Epoch 20, CIFAR-10 Batch 5:  Loss=0.2960628569126129 Validation Accuracy=0.6883999705314636\n",
      "Epoch 21, CIFAR-10 Batch 1:  Loss=0.2342611849308014 Validation Accuracy=0.6859999895095825\n",
      "Epoch 21, CIFAR-10 Batch 2:  Loss=0.2629019618034363 Validation Accuracy=0.6759999990463257\n",
      "Epoch 21, CIFAR-10 Batch 3:  Loss=0.1464337408542633 Validation Accuracy=0.6966000199317932\n",
      "Epoch 21, CIFAR-10 Batch 4:  Loss=0.24602361023426056 Validation Accuracy=0.6934000253677368\n",
      "Epoch 21, CIFAR-10 Batch 5:  Loss=0.2538526654243469 Validation Accuracy=0.7045999765396118\n",
      "Epoch 22, CIFAR-10 Batch 1:  Loss=0.21752281486988068 Validation Accuracy=0.7016000151634216\n",
      "Epoch 22, CIFAR-10 Batch 2:  Loss=0.23966392874717712 Validation Accuracy=0.6891999840736389\n",
      "Epoch 22, CIFAR-10 Batch 3:  Loss=0.1667424887418747 Validation Accuracy=0.6909999847412109\n",
      "Epoch 22, CIFAR-10 Batch 4:  Loss=0.2614690661430359 Validation Accuracy=0.6761999726295471\n",
      "Epoch 22, CIFAR-10 Batch 5:  Loss=0.24121622741222382 Validation Accuracy=0.7002000212669373\n",
      "Epoch 23, CIFAR-10 Batch 1:  Loss=0.21805715560913086 Validation Accuracy=0.6984000205993652\n",
      "Epoch 23, CIFAR-10 Batch 2:  Loss=0.21692109107971191 Validation Accuracy=0.6823999881744385\n",
      "Epoch 23, CIFAR-10 Batch 3:  Loss=0.1539853811264038 Validation Accuracy=0.6908000111579895\n",
      "Epoch 23, CIFAR-10 Batch 4:  Loss=0.23012511432170868 Validation Accuracy=0.6812000274658203\n",
      "Epoch 23, CIFAR-10 Batch 5:  Loss=0.21672096848487854 Validation Accuracy=0.7024000287055969\n",
      "Epoch 24, CIFAR-10 Batch 1:  Loss=0.21904230117797852 Validation Accuracy=0.7039999961853027\n",
      "Epoch 24, CIFAR-10 Batch 2:  Loss=0.19595874845981598 Validation Accuracy=0.6815999746322632\n",
      "Epoch 24, CIFAR-10 Batch 3:  Loss=0.16060884296894073 Validation Accuracy=0.6883999705314636\n",
      "Epoch 24, CIFAR-10 Batch 4:  Loss=0.20451799035072327 Validation Accuracy=0.6818000078201294\n",
      "Epoch 24, CIFAR-10 Batch 5:  Loss=0.2055286169052124 Validation Accuracy=0.7002000212669373\n",
      "Epoch 25, CIFAR-10 Batch 1:  Loss=0.21071109175682068 Validation Accuracy=0.6958000063896179\n",
      "Epoch 25, CIFAR-10 Batch 2:  Loss=0.18517926335334778 Validation Accuracy=0.6801999807357788\n",
      "Epoch 25, CIFAR-10 Batch 3:  Loss=0.14237646758556366 Validation Accuracy=0.692799985408783\n",
      "Epoch 25, CIFAR-10 Batch 4:  Loss=0.2462470531463623 Validation Accuracy=0.6758000254631042\n",
      "Epoch 25, CIFAR-10 Batch 5:  Loss=0.18431356549263 Validation Accuracy=0.7027999758720398\n"
     ]
    }
   ],
   "source": [
    "\"\"\"\n",
    "DON'T MODIFY ANYTHING IN THIS CELL\n",
    "\"\"\"\n",
    "save_model_path = './image_classification'\n",
    "\n",
    "print('Training...')\n",
    "with tf.Session() as sess:\n",
    "    # Initializing the variables\n",
    "    sess.run(tf.global_variables_initializer())\n",
    "    \n",
    "    # Training cycle\n",
    "    for epoch in range(epochs):\n",
    "        # Loop over all batches\n",
    "        n_batches = 5\n",
    "        for batch_i in range(1, n_batches + 1):\n",
    "            for batch_features, batch_labels in helper.load_preprocess_training_batch(batch_i, batch_size):\n",
    "                train_neural_network(sess, optimizer, keep_probability, batch_features, batch_labels)\n",
    "            print('Epoch {:>2}, CIFAR-10 Batch {}:  '.format(epoch + 1, batch_i), end='')\n",
    "            print_stats(sess, batch_features, batch_labels, cost, accuracy)\n",
    "            \n",
    "    # Save Model\n",
    "    saver = tf.train.Saver()\n",
    "    save_path = saver.save(sess, save_model_path)"
   ]
  },
  {
   "cell_type": "markdown",
   "metadata": {},
   "source": [
    "# Checkpoint\n",
    "The model has been saved to disk.\n",
    "## Test Model\n",
    "Test your model against the test dataset.  This will be your final accuracy. You should have an accuracy greater than 50%. If you don't, keep tweaking the model architecture and parameters."
   ]
  },
  {
   "cell_type": "code",
   "execution_count": 22,
   "metadata": {},
   "outputs": [
    {
     "name": "stdout",
     "output_type": "stream",
     "text": [
      "INFO:tensorflow:Restoring parameters from ./image_classification\n",
      "Testing Accuracy: 0.6904296875\n",
      "\n"
     ]
    },
    {
     "data": {
      "image/png": "[encoded data removed]",
      "text/plain": [
       "<matplotlib.figure.Figure at 0x7f98b3dfe048>"
      ]
     },
     "metadata": {
      "image/png": {
       "height": 319,
       "width": 350
      }
     },
     "output_type": "display_data"
    }
   ],
   "source": [
    "\"\"\"\n",
    "DON'T MODIFY ANYTHING IN THIS CELL\n",
    "\"\"\"\n",
    "%matplotlib inline\n",
    "%config InlineBackend.figure_format = 'retina'\n",
    "\n",
    "import tensorflow as tf\n",
    "import pickle\n",
    "import helper\n",
    "import random\n",
    "\n",
    "# Set batch size if not already set\n",
    "try:\n",
    "    if batch_size:\n",
    "        pass\n",
    "except NameError:\n",
    "    batch_size = 64\n",
    "\n",
    "save_model_path = './image_classification'\n",
    "n_samples = 4\n",
    "top_n_predictions = 3\n",
    "\n",
    "def test_model():\n",
    "    \"\"\"\n",
    "    Test the saved model against the test dataset\n",
    "    \"\"\"\n",
    "\n",
    "    test_features, test_labels = pickle.load(open('preprocess_training.p', mode='rb'))\n",
    "    loaded_graph = tf.Graph()\n",
    "\n",
    "    with tf.Session(graph=loaded_graph) as sess:\n",
    "        # Load model\n",
    "        loader = tf.train.import_meta_graph(save_model_path + '.meta')\n",
    "        loader.restore(sess, save_model_path)\n",
    "\n",
    "        # Get Tensors from loaded model\n",
    "        loaded_x = loaded_graph.get_tensor_by_name('x:0')\n",
    "        loaded_y = loaded_graph.get_tensor_by_name('y:0')\n",
    "        loaded_keep_prob = loaded_graph.get_tensor_by_name('keep_prob:0')\n",
    "        loaded_logits = loaded_graph.get_tensor_by_name('logits:0')\n",
    "        loaded_acc = loaded_graph.get_tensor_by_name('accuracy:0')\n",
    "        \n",
    "        # Get accuracy in batches for memory limitations\n",
    "        test_batch_acc_total = 0\n",
    "        test_batch_count = 0\n",
    "        \n",
    "        for train_feature_batch, train_label_batch in helper.batch_features_labels(test_features, test_labels, batch_size):\n",
    "            test_batch_acc_total += sess.run(\n",
    "                loaded_acc,\n",
    "                feed_dict={loaded_x: train_feature_batch, loaded_y: train_label_batch, loaded_keep_prob: 1.0})\n",
    "            test_batch_count += 1\n",
    "\n",
    "        print('Testing Accuracy: {}\\n'.format(test_batch_acc_total/test_batch_count))\n",
    "\n",
    "        # Print Random Samples\n",
    "        random_test_features, random_test_labels = tuple(zip(*random.sample(list(zip(test_features, test_labels)), n_samples)))\n",
    "        random_test_predictions = sess.run(\n",
    "            tf.nn.top_k(tf.nn.softmax(loaded_logits), top_n_predictions),\n",
    "            feed_dict={loaded_x: random_test_features, loaded_y: random_test_labels, loaded_keep_prob: 1.0})\n",
    "        helper.display_image_predictions(random_test_features, random_test_labels, random_test_predictions)\n",
    "\n",
    "\n",
    "test_model()"
   ]
  },
  {
   "cell_type": "markdown",
   "metadata": {},
   "source": [
    "## Why 50-80% Accuracy?\n",
    "You might be wondering why you can't get an accuracy any higher. First things first, 50% isn't bad for a simple CNN.  Pure guessing would get you 10% accuracy. That's because there are many more techniques that can be applied to your model and we recemmond that once you are done with this project, you explore!\n",
    "\n",
    "## Submitting This Project\n",
    "When submitting this project, make sure to run all the cells before saving the notebook.  Save the notebook file as \"image_classification.ipynb\" and save it as a HTML file under \"File\" -> \"Download as\".  Include the \"helper.py\" and \"problem_unittests.py\" files in your submission."
   ]
  }
 ],
 "metadata": {
  "kernelspec": {
   "display_name": "Python 3",
   "language": "python",
   "name": "python3"
  },
  "language_info": {
   "codemirror_mode": {
    "name": "ipython",
    "version": 3
   },
   "file_extension": ".py",
   "mimetype": "text/x-python",
   "name": "python",
   "nbconvert_exporter": "python",
   "pygments_lexer": "ipython3",
   "version": "3.6.3"
  }
 },
 "nbformat": 4,
 "nbformat_minor": 1
}
